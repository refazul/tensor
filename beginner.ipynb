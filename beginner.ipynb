{
 "cells": [
  {
   "cell_type": "markdown",
   "metadata": {
    "id": "rX8mhOLljYeM"
   },
   "source": [
    "##### Copyright 2019 The TensorFlow Authors."
   ]
  },
  {
   "cell_type": "code",
   "execution_count": 1,
   "metadata": {
    "cellView": "form",
    "execution": {
     "iopub.execute_input": "2023-09-28T06:29:49.184321Z",
     "iopub.status.busy": "2023-09-28T06:29:49.183784Z",
     "iopub.status.idle": "2023-09-28T06:29:49.187500Z",
     "shell.execute_reply": "2023-09-28T06:29:49.186920Z"
    },
    "id": "BZSlp3DAjdYf",
    "ExecuteTime": {
     "end_time": "2023-11-10T16:28:41.512588900Z",
     "start_time": "2023-11-10T16:28:41.509079200Z"
    }
   },
   "outputs": [],
   "source": [
    "#@title Licensed under the Apache License, Version 2.0 (the \"License\");\n",
    "# you may not use this file except in compliance with the License.\n",
    "# You may obtain a copy of the License at\n",
    "#\n",
    "# https://www.apache.org/licenses/LICENSE-2.0\n",
    "#\n",
    "# Unless required by applicable law or agreed to in writing, software\n",
    "# distributed under the License is distributed on an \"AS IS\" BASIS,\n",
    "# WITHOUT WARRANTIES OR CONDITIONS OF ANY KIND, either express or implied.\n",
    "# See the License for the specific language governing permissions and\n",
    "# limitations under the License."
   ]
  },
  {
   "cell_type": "markdown",
   "metadata": {
    "id": "3wF5wszaj97Y"
   },
   "source": [
    "# TensorFlow 2 quickstart for beginners"
   ]
  },
  {
   "cell_type": "markdown",
   "metadata": {
    "id": "DUNzJc4jTj6G"
   },
   "source": [
    "<table class=\"tfo-notebook-buttons\" align=\"left\">\n",
    "  <td>\n",
    "    <a target=\"_blank\" href=\"https://www.tensorflow.org/tutorials/quickstart/beginner\"><img src=\"https://www.tensorflow.org/images/tf_logo_32px.png\" />View on TensorFlow.org</a>\n",
    "  </td>\n",
    "  <td>\n",
    "    <a target=\"_blank\" href=\"https://colab.research.google.com/github/tensorflow/docs/blob/master/site/en/tutorials/quickstart/beginner.ipynb\"><img src=\"https://www.tensorflow.org/images/colab_logo_32px.png\" />Run in Google Colab</a>\n",
    "  </td>\n",
    "  <td>\n",
    "    <a target=\"_blank\" href=\"https://github.com/tensorflow/docs/blob/master/site/en/tutorials/quickstart/beginner.ipynb\"><img src=\"https://www.tensorflow.org/images/GitHub-Mark-32px.png\" />View source on GitHub</a>\n",
    "  </td>\n",
    "  <td>\n",
    "    <a href=\"https://storage.googleapis.com/tensorflow_docs/docs/site/en/tutorials/quickstart/beginner.ipynb\"><img src=\"https://www.tensorflow.org/images/download_logo_32px.png\" />Download notebook</a>\n",
    "  </td>\n",
    "</table>"
   ]
  },
  {
   "cell_type": "markdown",
   "metadata": {
    "id": "04QgGZc9bF5D"
   },
   "source": [
    "This short introduction uses [Keras](https://www.tensorflow.org/guide/keras/overview) to:\n",
    "\n",
    "1. Load a prebuilt dataset.\n",
    "1. Build a neural network machine learning model that classifies images.\n",
    "2. Train this neural network.\n",
    "3. Evaluate the accuracy of the model."
   ]
  },
  {
   "cell_type": "markdown",
   "metadata": {
    "id": "hiH7AC-NTniF"
   },
   "source": [
    "This tutorial is a [Google Colaboratory](https://colab.research.google.com/notebooks/welcome.ipynb) notebook. Python programs are run directly in the browser—a great way to learn and use TensorFlow. To follow this tutorial, run the notebook in Google Colab by clicking the button at the top of this page.\n",
    "\n",
    "1. In Colab, connect to a Python runtime: At the top-right of the menu bar, select *CONNECT*.\n",
    "2. To run all the code in the notebook, select **Runtime** > **Run all**. To run the code cells one at a time, hover over each cell and select the **Run cell** icon.\n",
    "\n",
    "![Run cell icon](images/beginner/run_cell_icon.png)"
   ]
  },
  {
   "cell_type": "markdown",
   "metadata": {
    "id": "nnrWf3PCEzXL"
   },
   "source": [
    "## Set up TensorFlow\n",
    "\n",
    "Import TensorFlow into your program to get started:"
   ]
  },
  {
   "cell_type": "code",
   "execution_count": 2,
   "metadata": {
    "execution": {
     "iopub.execute_input": "2023-09-28T06:29:49.191001Z",
     "iopub.status.busy": "2023-09-28T06:29:49.190649Z",
     "iopub.status.idle": "2023-09-28T06:29:51.549105Z",
     "shell.execute_reply": "2023-09-28T06:29:51.548407Z"
    },
    "id": "0trJmd6DjqBZ",
    "ExecuteTime": {
     "end_time": "2023-11-10T16:28:43.332157100Z",
     "start_time": "2023-11-10T16:28:41.514588500Z"
    }
   },
   "outputs": [
    {
     "name": "stdout",
     "output_type": "stream",
     "text": [
      "TensorFlow version: 2.14.0\n"
     ]
    }
   ],
   "source": [
    "import tensorflow as tf\n",
    "print(\"TensorFlow version:\", tf.__version__)"
   ]
  },
  {
   "cell_type": "markdown",
   "metadata": {
    "id": "7NAbSZiaoJ4z"
   },
   "source": [
    "If you are following along in your own development environment, rather than [Colab](https://colab.research.google.com/github/tensorflow/docs/blob/master/site/en/tutorials/quickstart/beginner.ipynb), see the [install guide](https://www.tensorflow.org/install) for setting up TensorFlow for development.\n",
    "\n",
    "Note: Make sure you have upgraded to the latest `pip` to install the TensorFlow 2 package if you are using your own development environment. See the [install guide](https://www.tensorflow.org/install) for details.\n",
    "\n",
    "## Load a dataset\n",
    "\n",
    "Load and prepare the [MNIST dataset](http://yann.lecun.com/exdb/mnist/). The pixel values of the images range from 0 through 255. Scale these values to a range of 0 to 1 by dividing the values by `255.0`. This also converts the sample data from integers to floating-point numbers:"
   ]
  },
  {
   "cell_type": "code",
   "execution_count": 3,
   "metadata": {
    "execution": {
     "iopub.execute_input": "2023-09-28T06:29:51.552892Z",
     "iopub.status.busy": "2023-09-28T06:29:51.552124Z",
     "iopub.status.idle": "2023-09-28T06:29:52.007370Z",
     "shell.execute_reply": "2023-09-28T06:29:52.006520Z"
    },
    "id": "7FP5258xjs-v",
    "ExecuteTime": {
     "end_time": "2023-11-10T16:28:43.595035200Z",
     "start_time": "2023-11-10T16:28:43.333157900Z"
    }
   },
   "outputs": [],
   "source": [
    "mnist = tf.keras.datasets.mnist\n",
    "\n",
    "(x_train, y_train), (x_test, y_test) = mnist.load_data()\n",
    "x_train, x_test = x_train / 255.0, x_test / 255.0"
   ]
  },
  {
   "cell_type": "markdown",
   "metadata": {
    "id": "BPZ68wASog_I"
   },
   "source": [
    "## Build a machine learning model\n",
    "\n",
    "Build a `tf.keras.Sequential` model:"
   ]
  },
  {
   "cell_type": "code",
   "execution_count": 4,
   "metadata": {
    "execution": {
     "iopub.execute_input": "2023-09-28T06:29:52.011782Z",
     "iopub.status.busy": "2023-09-28T06:29:52.011067Z",
     "iopub.status.idle": "2023-09-28T06:29:52.660576Z",
     "shell.execute_reply": "2023-09-28T06:29:52.659858Z"
    },
    "id": "h3IKyzTCDNGo",
    "ExecuteTime": {
     "end_time": "2023-11-10T16:28:43.641497500Z",
     "start_time": "2023-11-10T16:28:43.596034100Z"
    }
   },
   "outputs": [],
   "source": [
    "model = tf.keras.models.Sequential([\n",
    "  tf.keras.layers.Flatten(input_shape=(28, 28)),\n",
    "  tf.keras.layers.Dense(128, activation='relu'),\n",
    "  tf.keras.layers.Dropout(0.2),\n",
    "  tf.keras.layers.Dense(10)\n",
    "])"
   ]
  },
  {
   "cell_type": "markdown",
   "metadata": {
    "id": "l2hiez2eIUz8"
   },
   "source": [
    "[`Sequential`](https://www.tensorflow.org/guide/keras/sequential_model) is useful for stacking layers where each layer has one input [tensor](https://www.tensorflow.org/guide/tensor) and one output tensor. Layers are functions with a known mathematical structure that can be reused and have trainable variables. Most TensorFlow models are composed of layers. This model uses the [`Flatten`](https://www.tensorflow.org/api_docs/python/tf/keras/layers/Flatten), [`Dense`](https://www.tensorflow.org/api_docs/python/tf/keras/layers/Dense), and [`Dropout`](https://www.tensorflow.org/api_docs/python/tf/keras/layers/Dropout) layers.\n",
    "\n",
    "For each example, the model returns a vector of [logits](https://developers.google.com/machine-learning/glossary#logits) or [log-odds](https://developers.google.com/machine-learning/glossary#log-odds) scores, one for each class."
   ]
  },
  {
   "cell_type": "code",
   "execution_count": 5,
   "metadata": {
    "execution": {
     "iopub.execute_input": "2023-09-28T06:29:52.664056Z",
     "iopub.status.busy": "2023-09-28T06:29:52.663534Z",
     "iopub.status.idle": "2023-09-28T06:29:52.681284Z",
     "shell.execute_reply": "2023-09-28T06:29:52.680686Z"
    },
    "id": "OeOrNdnkEEcR",
    "ExecuteTime": {
     "end_time": "2023-11-10T16:28:44.073335900Z",
     "start_time": "2023-11-10T16:28:43.642497700Z"
    }
   },
   "outputs": [
    {
     "data": {
      "text/plain": "array([[ 0.29153723, -0.5843667 ,  0.06287145,  0.02915898,  0.17725077,\n        -0.5153878 ,  0.35482684, -0.4184484 ,  0.12641846,  0.24057572]],\n      dtype=float32)"
     },
     "execution_count": 5,
     "metadata": {},
     "output_type": "execute_result"
    }
   ],
   "source": [
    "predictions = model(x_train[:1]).numpy()\n",
    "predictions"
   ]
  },
  {
   "cell_type": "markdown",
   "metadata": {
    "id": "tgjhDQGcIniO"
   },
   "source": [
    "The `tf.nn.softmax` function converts these logits to *probabilities* for each class: "
   ]
  },
  {
   "cell_type": "code",
   "execution_count": 6,
   "metadata": {
    "execution": {
     "iopub.execute_input": "2023-09-28T06:29:52.684429Z",
     "iopub.status.busy": "2023-09-28T06:29:52.683817Z",
     "iopub.status.idle": "2023-09-28T06:29:52.689625Z",
     "shell.execute_reply": "2023-09-28T06:29:52.689031Z"
    },
    "id": "zWSRnQ0WI5eq",
    "ExecuteTime": {
     "end_time": "2023-11-10T16:28:44.073335900Z",
     "start_time": "2023-11-10T16:28:43.657045Z"
    }
   },
   "outputs": [
    {
     "data": {
      "text/plain": "array([[0.13029951, 0.05426785, 0.10366556, 0.10022899, 0.11622749,\n        0.05814331, 0.13881268, 0.06406192, 0.11046702, 0.12382562]],\n      dtype=float32)"
     },
     "execution_count": 6,
     "metadata": {},
     "output_type": "execute_result"
    }
   ],
   "source": [
    "tf.nn.softmax(predictions).numpy()"
   ]
  },
  {
   "cell_type": "markdown",
   "metadata": {
    "id": "he5u_okAYS4a"
   },
   "source": [
    "Note: It is possible to bake the `tf.nn.softmax` function into the activation function for the last layer of the network. While this can make the model output more directly interpretable, this approach is discouraged as it's impossible to provide an exact and numerically stable loss calculation for all models when using a softmax output. "
   ]
  },
  {
   "cell_type": "markdown",
   "metadata": {
    "id": "hQyugpgRIyrA"
   },
   "source": [
    "Define a loss function for training using `losses.SparseCategoricalCrossentropy`:"
   ]
  },
  {
   "cell_type": "code",
   "execution_count": 7,
   "metadata": {
    "execution": {
     "iopub.execute_input": "2023-09-28T06:29:52.693199Z",
     "iopub.status.busy": "2023-09-28T06:29:52.692695Z",
     "iopub.status.idle": "2023-09-28T06:29:52.695874Z",
     "shell.execute_reply": "2023-09-28T06:29:52.695291Z"
    },
    "id": "RSkzdv8MD0tT",
    "ExecuteTime": {
     "end_time": "2023-11-10T16:28:44.073335900Z",
     "start_time": "2023-11-10T16:28:43.662467200Z"
    }
   },
   "outputs": [],
   "source": [
    "loss_fn = tf.keras.losses.SparseCategoricalCrossentropy(from_logits=True)"
   ]
  },
  {
   "cell_type": "markdown",
   "metadata": {
    "id": "SfR4MsSDU880"
   },
   "source": [
    "The loss function takes a vector of ground truth values and a vector of logits and returns a scalar loss for each example. This loss is equal to the negative log probability of the true class: The loss is zero if the model is sure of the correct class.\n",
    "\n",
    "This untrained model gives probabilities close to random (1/10 for each class), so the initial loss should be close to `-tf.math.log(1/10) ~= 2.3`."
   ]
  },
  {
   "cell_type": "code",
   "execution_count": 8,
   "metadata": {
    "execution": {
     "iopub.execute_input": "2023-09-28T06:29:52.699172Z",
     "iopub.status.busy": "2023-09-28T06:29:52.698731Z",
     "iopub.status.idle": "2023-09-28T06:29:52.711208Z",
     "shell.execute_reply": "2023-09-28T06:29:52.710650Z"
    },
    "id": "NJWqEVrrJ7ZB",
    "ExecuteTime": {
     "end_time": "2023-11-10T16:28:44.090345900Z",
     "start_time": "2023-11-10T16:28:43.664470Z"
    }
   },
   "outputs": [
    {
     "data": {
      "text/plain": "2.8448443"
     },
     "execution_count": 8,
     "metadata": {},
     "output_type": "execute_result"
    }
   ],
   "source": [
    "loss_fn(y_train[:1], predictions).numpy()"
   ]
  },
  {
   "cell_type": "markdown",
   "metadata": {
    "id": "ada44eb947d4"
   },
   "source": [
    "Before you start training, configure and compile the model using Keras `Model.compile`. Set the [`optimizer`](https://www.tensorflow.org/api_docs/python/tf/keras/optimizers) class to `adam`, set the `loss` to the `loss_fn` function you defined earlier, and specify a metric to be evaluated for the model by setting the `metrics` parameter to `accuracy`."
   ]
  },
  {
   "cell_type": "code",
   "execution_count": 9,
   "metadata": {
    "execution": {
     "iopub.execute_input": "2023-09-28T06:29:52.714544Z",
     "iopub.status.busy": "2023-09-28T06:29:52.714013Z",
     "iopub.status.idle": "2023-09-28T06:29:52.725791Z",
     "shell.execute_reply": "2023-09-28T06:29:52.725223Z"
    },
    "id": "9foNKHzTD2Vo",
    "ExecuteTime": {
     "end_time": "2023-11-10T16:28:44.091348800Z",
     "start_time": "2023-11-10T16:28:43.674547900Z"
    }
   },
   "outputs": [],
   "source": [
    "model.compile(optimizer='adam',\n",
    "              loss=loss_fn,\n",
    "              metrics=['accuracy'])"
   ]
  },
  {
   "cell_type": "markdown",
   "metadata": {
    "id": "ix4mEL65on-w"
   },
   "source": [
    "## Train and evaluate your model\n",
    "\n",
    "Use the `Model.fit` method to adjust your model parameters and minimize the loss: "
   ]
  },
  {
   "cell_type": "code",
   "execution_count": 10,
   "metadata": {
    "execution": {
     "iopub.execute_input": "2023-09-28T06:29:52.729393Z",
     "iopub.status.busy": "2023-09-28T06:29:52.728946Z",
     "iopub.status.idle": "2023-09-28T06:30:13.727936Z",
     "shell.execute_reply": "2023-09-28T06:30:13.727181Z"
    },
    "id": "y7suUbJXVLqP",
    "ExecuteTime": {
     "end_time": "2023-11-10T16:28:53.666923Z",
     "start_time": "2023-11-10T16:28:43.683828300Z"
    }
   },
   "outputs": [
    {
     "name": "stdout",
     "output_type": "stream",
     "text": [
      "Epoch 1/5\n",
      "1875/1875 [==============================] - 2s 1ms/step - loss: 0.2931 - accuracy: 0.9148\n",
      "Epoch 2/5\n",
      "1875/1875 [==============================] - 2s 985us/step - loss: 0.1420 - accuracy: 0.9579\n",
      "Epoch 3/5\n",
      "1875/1875 [==============================] - 2s 1ms/step - loss: 0.1057 - accuracy: 0.9689\n",
      "Epoch 4/5\n",
      "1875/1875 [==============================] - 2s 1ms/step - loss: 0.0877 - accuracy: 0.9730\n",
      "Epoch 5/5\n",
      "1875/1875 [==============================] - 2s 1ms/step - loss: 0.0744 - accuracy: 0.9767\n"
     ]
    },
    {
     "data": {
      "text/plain": "<keras.src.callbacks.History at 0x1bf9538f7d0>"
     },
     "execution_count": 10,
     "metadata": {},
     "output_type": "execute_result"
    }
   ],
   "source": [
    "model.fit(x_train, y_train, epochs=5)"
   ]
  },
  {
   "cell_type": "markdown",
   "metadata": {
    "id": "4mDAAPFqVVgn"
   },
   "source": [
    "The `Model.evaluate` method checks the model's performance, usually on a [validation set](https://developers.google.com/machine-learning/glossary#validation-set) or [test set](https://developers.google.com/machine-learning/glossary#test-set)."
   ]
  },
  {
   "cell_type": "code",
   "execution_count": 11,
   "metadata": {
    "execution": {
     "iopub.execute_input": "2023-09-28T06:30:13.731498Z",
     "iopub.status.busy": "2023-09-28T06:30:13.730918Z",
     "iopub.status.idle": "2023-09-28T06:30:14.337837Z",
     "shell.execute_reply": "2023-09-28T06:30:14.337162Z"
    },
    "id": "F7dTAzgHDUh7",
    "ExecuteTime": {
     "end_time": "2023-11-10T16:28:53.950606800Z",
     "start_time": "2023-11-10T16:28:53.666923Z"
    }
   },
   "outputs": [
    {
     "name": "stdout",
     "output_type": "stream",
     "text": [
      "313/313 - 0s - loss: 0.0843 - accuracy: 0.9744 - 235ms/epoch - 750us/step\n"
     ]
    },
    {
     "data": {
      "text/plain": "[0.08432023227214813, 0.974399983882904]"
     },
     "execution_count": 11,
     "metadata": {},
     "output_type": "execute_result"
    }
   ],
   "source": [
    "model.evaluate(x_test,  y_test, verbose=2)"
   ]
  },
  {
   "cell_type": "markdown",
   "metadata": {
    "id": "T4JfEh7kvx6m"
   },
   "source": [
    "The image classifier is now trained to ~98% accuracy on this dataset. To learn more, read the [TensorFlow tutorials](https://www.tensorflow.org/tutorials/)."
   ]
  },
  {
   "cell_type": "markdown",
   "metadata": {
    "id": "Aj8NrlzlJqDG"
   },
   "source": [
    "If you want your model to return a probability, you can wrap the trained model, and attach the softmax to it:"
   ]
  },
  {
   "cell_type": "code",
   "execution_count": 12,
   "metadata": {
    "execution": {
     "iopub.execute_input": "2023-09-28T06:30:14.341074Z",
     "iopub.status.busy": "2023-09-28T06:30:14.340800Z",
     "iopub.status.idle": "2023-09-28T06:30:14.361299Z",
     "shell.execute_reply": "2023-09-28T06:30:14.360709Z"
    },
    "id": "rYb6DrEH0GMv",
    "ExecuteTime": {
     "end_time": "2023-11-10T16:28:53.962303300Z",
     "start_time": "2023-11-10T16:28:53.950606800Z"
    }
   },
   "outputs": [],
   "source": [
    "probability_model = tf.keras.Sequential([\n",
    "  model,\n",
    "  tf.keras.layers.Softmax()\n",
    "])"
   ]
  },
  {
   "cell_type": "code",
   "execution_count": 13,
   "metadata": {
    "execution": {
     "iopub.execute_input": "2023-09-28T06:30:14.364441Z",
     "iopub.status.busy": "2023-09-28T06:30:14.364224Z",
     "iopub.status.idle": "2023-09-28T06:30:14.372366Z",
     "shell.execute_reply": "2023-09-28T06:30:14.371794Z"
    },
    "id": "cnqOZtUp1YR_",
    "ExecuteTime": {
     "end_time": "2023-11-10T16:28:53.968176700Z",
     "start_time": "2023-11-10T16:28:53.963303400Z"
    }
   },
   "outputs": [
    {
     "data": {
      "text/plain": "<tf.Tensor: shape=(5, 10), dtype=float32, numpy=\narray([[3.1580950e-07, 2.0064247e-08, 3.0801154e-06, 2.1139861e-03,\n        1.2371212e-10, 2.2376335e-07, 4.4710045e-14, 9.9785525e-01,\n        2.2488812e-06, 2.4712785e-05],\n       [9.8750846e-08, 1.4712608e-04, 9.9936789e-01, 4.8261514e-04,\n        2.2135954e-14, 1.5492865e-06, 2.1790841e-08, 2.8309633e-13,\n        6.9571644e-07, 6.3523779e-13],\n       [1.0466096e-07, 9.9892360e-01, 2.4915400e-05, 2.4542882e-05,\n        2.5965189e-04, 1.5280607e-06, 2.2363847e-06, 6.1239908e-04,\n        1.4909872e-04, 1.8537557e-06],\n       [9.9989712e-01, 2.7494609e-10, 1.8661438e-05, 1.6515901e-06,\n        3.5827494e-08, 5.7619858e-05, 7.1282312e-07, 1.6099028e-05,\n        3.9512912e-08, 8.0351911e-06],\n       [2.3325008e-06, 1.3815741e-09, 4.2565248e-06, 7.6290277e-08,\n        9.9450028e-01, 1.5081956e-07, 6.3193147e-06, 5.1405783e-05,\n        6.3641022e-07, 5.4344386e-03]], dtype=float32)>"
     },
     "execution_count": 13,
     "metadata": {},
     "output_type": "execute_result"
    }
   ],
   "source": [
    "probability_model(x_test[:5])"
   ]
  },
  {
   "cell_type": "markdown",
   "metadata": {
    "id": "-47O6_GLdRuT"
   },
   "source": [
    "## Conclusion\n",
    "\n",
    "Congratulations! You have trained a machine learning model using a prebuilt dataset using the [Keras](https://www.tensorflow.org/guide/keras/overview) API.\n",
    "\n",
    "For more examples of using Keras, check out the [tutorials](https://www.tensorflow.org/tutorials/keras/). To learn more about building models with Keras, read the [guides](https://www.tensorflow.org/guide/keras). If you want learn more about loading and preparing data, see the tutorials on [image data loading](https://www.tensorflow.org/tutorials/load_data/images) or [CSV data loading](https://www.tensorflow.org/tutorials/load_data/csv).\n"
   ]
  }
 ],
 "metadata": {
  "colab": {
   "name": "beginner.ipynb",
   "toc_visible": true
  },
  "kernelspec": {
   "name": "python3",
   "language": "python",
   "display_name": "Python 3 (ipykernel)"
  },
  "language_info": {
   "codemirror_mode": {
    "name": "ipython",
    "version": 3
   },
   "file_extension": ".py",
   "mimetype": "text/x-python",
   "name": "python",
   "nbconvert_exporter": "python",
   "pygments_lexer": "ipython3",
   "version": "3.9.18"
  }
 },
 "nbformat": 4,
 "nbformat_minor": 0
}
